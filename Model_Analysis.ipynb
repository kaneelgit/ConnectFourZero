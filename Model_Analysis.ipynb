{
 "cells": [
  {
   "cell_type": "code",
   "execution_count": 1,
   "id": "49052b73",
   "metadata": {},
   "outputs": [],
   "source": [
    "#import libraries\n",
    "import numpy as np\n",
    "import pandas\n",
    "import matplotlib.pyplot as plt\n",
    "\n",
    "import tensorflow as tf\n",
    "import tensorflow_probability as tfp\n",
    "\n",
    "from tensorflow.keras.models import Sequential\n",
    "from tensorflow.keras import layers\n",
    "from tensorflow.keras.losses import SparseCategoricalCrossentropy\n",
    "from tensorflow.keras.optimizers import Adam\n",
    "from tensorflow.keras.metrics import Accuracy\n",
    "\n",
    "tfd = tfp.distributions\n",
    "tfpl = tfp.layers\n",
    "\n",
    "from sklearn.preprocessing import MinMaxScaler\n",
    "from collections import deque\n",
    "import random\n",
    "import sys\n",
    "# sys.path.append('/ConnectFourZero')\n",
    "# from ConnectFourZero.ConnectFour.game import ConnectFour\n",
    "from ConnectFour.game import ConnectFour\n",
    "import os\n",
    "from ConnectFour import utils"
   ]
  },
  {
   "cell_type": "markdown",
   "id": "ca435e42",
   "metadata": {},
   "source": [
    "## Basic Deep Learning Model"
   ]
  },
  {
   "cell_type": "code",
   "execution_count": 2,
   "id": "b85b64ba",
   "metadata": {},
   "outputs": [
    {
     "name": "stdout",
     "output_type": "stream",
     "text": [
      "Model: \"sequential\"\n",
      "_________________________________________________________________\n",
      "Layer (type)                 Output Shape              Param #   \n",
      "=================================================================\n",
      "conv_block (ConvBlock)       (None, 5, 6, 64)          2048      \n",
      "_________________________________________________________________\n",
      "residual_block (ResidualBloc (None, 5, 6, 64)          74368     \n",
      "_________________________________________________________________\n",
      "residual_block_1 (ResidualBl (None, 5, 6, 64)          74368     \n",
      "_________________________________________________________________\n",
      "residual_block_2 (ResidualBl (None, 5, 6, 64)          74368     \n",
      "_________________________________________________________________\n",
      "residual_block_3 (ResidualBl (None, 5, 6, 64)          74368     \n",
      "_________________________________________________________________\n",
      "flatten (Flatten)            (None, 1920)              0         \n",
      "_________________________________________________________________\n",
      "dense (Dense)                (None, 6)                 11526     \n",
      "=================================================================\n",
      "Total params: 311,046\n",
      "Trainable params: 309,894\n",
      "Non-trainable params: 1,152\n",
      "_________________________________________________________________\n"
     ]
    }
   ],
   "source": [
    "#load model and weights\n",
    "from Models.Basic_DL import bdl\n",
    "\n",
    "#init model\n",
    "model = bdl.model\n",
    "\n",
    "#weights dir\n",
    "wd = os.path.join('Models', 'Basic DL Weights', 'model_weights_5.h5')\n",
    "\n",
    "model.load_weights(wd)\n"
   ]
  },
  {
   "cell_type": "code",
   "execution_count": 7,
   "id": "57f22833",
   "metadata": {},
   "outputs": [
    {
     "name": "stdout",
     "output_type": "stream",
     "text": [
      "|   |   |   |   |   |   |\n",
      "|   |   |   |   |   |   |\n",
      "| O | X |   |   |   |   |\n",
      "| O | X |   |   |   |   |\n",
      "| O | X |   |   |   |   |\n"
     ]
    }
   ],
   "source": [
    "#sample state 1 to see if the model has learned\n",
    "c4 = ConnectFour()\n",
    "c4.play_move(1, False)\n",
    "c4.play_move(0, False)\n",
    "c4.play_move(1, False)\n",
    "c4.play_move(0, False)\n",
    "c4.play_move(1, False)\n",
    "c4.play_move(0, True)\n"
   ]
  },
  {
   "cell_type": "code",
   "execution_count": 21,
   "id": "41eda69f",
   "metadata": {},
   "outputs": [],
   "source": [
    "#create state representation for the current state\n",
    "state_representation = utils.board_state_int(c4.board, 1)"
   ]
  },
  {
   "cell_type": "code",
   "execution_count": 24,
   "id": "7a773a99",
   "metadata": {},
   "outputs": [
    {
     "name": "stdout",
     "output_type": "stream",
     "text": [
      "[[ -30.465256  -26.189436   -6.684709  -17.270187  -48.18604  -221.9383  ]]\n"
     ]
    },
    {
     "data": {
      "text/plain": [
       "2"
      ]
     },
     "execution_count": 24,
     "metadata": {},
     "output_type": "execute_result"
    }
   ],
   "source": [
    "#predict from model\n",
    "q_values = model.predict(state_representation[np.newaxis, :])\n",
    "print(q_values)\n",
    "np.argmax(q_values)"
   ]
  },
  {
   "cell_type": "code",
   "execution_count": 27,
   "id": "85067b58",
   "metadata": {},
   "outputs": [
    {
     "name": "stdout",
     "output_type": "stream",
     "text": [
      "|   |   |   |   |   |   |\n",
      "|   |   |   |   |   |   |\n",
      "|   |   |   |   |   |   |\n",
      "|   | O | O | O |   |   |\n",
      "|   | X | X | X |   |   |\n"
     ]
    }
   ],
   "source": [
    "#sample state 1 to see if the model has learned\n",
    "c4 = ConnectFour()\n",
    "c4.play_move(1, False)\n",
    "c4.play_move(1, False)\n",
    "c4.play_move(2, False)\n",
    "c4.play_move(2, False)\n",
    "c4.play_move(3, False)\n",
    "c4.play_move(3, True)"
   ]
  },
  {
   "cell_type": "code",
   "execution_count": 28,
   "id": "66bad55b",
   "metadata": {},
   "outputs": [
    {
     "name": "stdout",
     "output_type": "stream",
     "text": [
      "[[ -12.3940115    5.1414013   -1.5105219  -13.445637   -62.503635\n",
      "  -225.66731  ]]\n"
     ]
    },
    {
     "data": {
      "text/plain": [
       "1"
      ]
     },
     "execution_count": 28,
     "metadata": {},
     "output_type": "execute_result"
    }
   ],
   "source": [
    "#create state representation for the current state\n",
    "state_representation = utils.board_state_int(c4.board, 1)\n",
    "\n",
    "#predict from model\n",
    "q_values = model.predict(state_representation[np.newaxis, :])\n",
    "print(q_values)\n",
    "np.argmax(q_values)"
   ]
  },
  {
   "cell_type": "code",
   "execution_count": null,
   "id": "e6f64876",
   "metadata": {},
   "outputs": [],
   "source": []
  }
 ],
 "metadata": {
  "kernelspec": {
   "display_name": "Python 3",
   "language": "python",
   "name": "python3"
  },
  "language_info": {
   "codemirror_mode": {
    "name": "ipython",
    "version": 3
   },
   "file_extension": ".py",
   "mimetype": "text/x-python",
   "name": "python",
   "nbconvert_exporter": "python",
   "pygments_lexer": "ipython3",
   "version": "3.8.8"
  }
 },
 "nbformat": 4,
 "nbformat_minor": 5
}
