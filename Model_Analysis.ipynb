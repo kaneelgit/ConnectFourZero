{
 "cells": [
  {
   "cell_type": "code",
   "execution_count": 1,
   "id": "49052b73",
   "metadata": {},
   "outputs": [],
   "source": [
    "#import libraries\n",
    "import numpy as np\n",
    "import pandas\n",
    "import matplotlib.pyplot as plt\n",
    "\n",
    "import tensorflow as tf\n",
    "import tensorflow_probability as tfp\n",
    "\n",
    "from tensorflow.keras.models import Sequential\n",
    "from tensorflow.keras import layers\n",
    "from tensorflow.keras.losses import SparseCategoricalCrossentropy\n",
    "from tensorflow.keras.optimizers import Adam\n",
    "from tensorflow.keras.metrics import Accuracy\n",
    "\n",
    "tfd = tfp.distributions\n",
    "tfpl = tfp.layers\n",
    "\n",
    "from sklearn.preprocessing import MinMaxScaler\n",
    "from collections import deque\n",
    "import random\n",
    "import sys\n",
    "# sys.path.append('/ConnectFourZero')\n",
    "# from ConnectFourZero.ConnectFour.game import ConnectFour\n",
    "from ConnectFour.game import ConnectFour\n",
    "import os\n",
    "from ConnectFour import utils"
   ]
  },
  {
   "cell_type": "markdown",
   "id": "ca435e42",
   "metadata": {},
   "source": [
    "## Basic Deep Learning Model"
   ]
  },
  {
   "cell_type": "code",
   "execution_count": 55,
   "id": "b85b64ba",
   "metadata": {},
   "outputs": [],
   "source": [
    "#load model and weights\n",
    "from Models.Basic_DL import bdl\n",
    "\n",
    "#init model\n",
    "model = bdl.model\n",
    "\n",
    "#weights dir\n",
    "wd = os.path.join('Models', 'Basic DL Weights', 'model_weights_45.h5')\n",
    "\n",
    "model.load_weights(wd)\n"
   ]
  },
  {
   "cell_type": "code",
   "execution_count": 56,
   "id": "57f22833",
   "metadata": {},
   "outputs": [
    {
     "name": "stdout",
     "output_type": "stream",
     "text": [
      "|   |   |   |   |   |   |\n",
      "|   |   |   |   |   |   |\n",
      "| O | X |   |   |   |   |\n",
      "| O | X |   |   |   |   |\n",
      "| O | X |   |   |   |   |\n"
     ]
    }
   ],
   "source": [
    "#sample state 1 to see if the model has learned\n",
    "c4 = ConnectFour()\n",
    "c4.play_move(1, False)\n",
    "c4.play_move(0, False)\n",
    "c4.play_move(1, False)\n",
    "c4.play_move(0, False)\n",
    "c4.play_move(1, False)\n",
    "c4.play_move(0, True)\n"
   ]
  },
  {
   "cell_type": "code",
   "execution_count": 59,
   "id": "b2c3345b",
   "metadata": {},
   "outputs": [],
   "source": [
    "#create state representation for the current state\n",
    "state_representation = utils.board_state_int(c4.board, 2)"
   ]
  },
  {
   "cell_type": "code",
   "execution_count": 60,
   "id": "ae4702ca",
   "metadata": {},
   "outputs": [
    {
     "name": "stdout",
     "output_type": "stream",
     "text": [
      "[[ 1.46144035e+11 -4.67443384e+10  5.06265928e+10 -1.22806845e+11\n",
      "   4.18158469e+10 -3.60396390e+11]]\n"
     ]
    },
    {
     "data": {
      "text/plain": [
       "0"
      ]
     },
     "execution_count": 60,
     "metadata": {},
     "output_type": "execute_result"
    }
   ],
   "source": [
    "q_values = model.predict(state_representation[np.newaxis, :])\n",
    "print(q_values)\n",
    "np.argmax(q_values)"
   ]
  },
  {
   "cell_type": "code",
   "execution_count": 61,
   "id": "1f6cca0f",
   "metadata": {},
   "outputs": [
    {
     "name": "stdout",
     "output_type": "stream",
     "text": [
      "[[ 1.46144035e+11 -4.67443384e+10  5.06265928e+10 -1.22806845e+11\n",
      "   4.18158469e+10 -3.60396390e+11]]\n"
     ]
    },
    {
     "data": {
      "text/plain": [
       "0"
      ]
     },
     "execution_count": 61,
     "metadata": {},
     "output_type": "execute_result"
    }
   ],
   "source": [
    "#predict from model\n",
    "q_values = model.predict(state_representation[np.newaxis, :])\n",
    "print(q_values)\n",
    "np.argmax(q_values)"
   ]
  },
  {
   "cell_type": "code",
   "execution_count": 65,
   "id": "9981d965",
   "metadata": {},
   "outputs": [
    {
     "name": "stdout",
     "output_type": "stream",
     "text": [
      "|   |   |   |   |   |   |\n",
      "|   |   |   |   |   |   |\n",
      "|   |   |   |   |   |   |\n",
      "|   | O | O |   |   |   |\n",
      "| O | X | X | X |   |   |\n"
     ]
    }
   ],
   "source": [
    "#sample state 1 to see if the model has learned\n",
    "c4 = ConnectFour()\n",
    "c4.play_move(1, False)\n",
    "c4.play_move(1, False)\n",
    "c4.play_move(2, False)\n",
    "c4.play_move(2, False)\n",
    "c4.play_move(3, False)\n",
    "c4.play_move(0, True)"
   ]
  },
  {
   "cell_type": "code",
   "execution_count": 67,
   "id": "ef918df4",
   "metadata": {},
   "outputs": [
    {
     "name": "stdout",
     "output_type": "stream",
     "text": [
      "[[-3.8820920e+09 -9.9762266e+10 -8.8245936e+10 -1.3624504e+11\n",
      "  -5.9335035e+09 -1.0576138e+11]]\n"
     ]
    },
    {
     "data": {
      "text/plain": [
       "0"
      ]
     },
     "execution_count": 67,
     "metadata": {},
     "output_type": "execute_result"
    }
   ],
   "source": [
    "#create state representation for the current state\n",
    "state_representation = utils.board_state_int(c4.board, 1)\n",
    "\n",
    "#predict from model\n",
    "q_values = model.predict(state_representation[np.newaxis, :])\n",
    "print(q_values)\n",
    "np.argmax(q_values)"
   ]
  },
  {
   "cell_type": "code",
   "execution_count": 33,
   "id": "da1e7a59",
   "metadata": {},
   "outputs": [
    {
     "name": "stdout",
     "output_type": "stream",
     "text": [
      "|   |   |   |   |   |   |\n",
      "|   |   |   |   |   |   |\n",
      "|   | X | X | O |   |   |\n",
      "|   | X | O | X |   |   |\n",
      "| X | O | O | O |   |   |\n"
     ]
    }
   ],
   "source": [
    "#new state representation\n",
    "c4 = ConnectFour()\n",
    "c4.play_move(0, False)\n",
    "c4.play_move(1, False)\n",
    "c4.play_move(1, False)\n",
    "c4.play_move(2, False)\n",
    "c4.play_move(1, False)\n",
    "c4.play_move(2, False)\n",
    "c4.play_move(2, False)\n",
    "c4.play_move(3, False)\n",
    "c4.play_move(3, False)\n",
    "c4.play_move(3, True)"
   ]
  },
  {
   "cell_type": "code",
   "execution_count": 34,
   "id": "9c3a702d",
   "metadata": {},
   "outputs": [
    {
     "name": "stdout",
     "output_type": "stream",
     "text": [
      "[[ 1.6646785e+10  2.3733641e+10  1.9487455e+09 -7.9815287e+10\n",
      "   2.3082545e+10 -1.6740013e+11]]\n"
     ]
    },
    {
     "data": {
      "text/plain": [
       "1"
      ]
     },
     "execution_count": 34,
     "metadata": {},
     "output_type": "execute_result"
    }
   ],
   "source": [
    "#create state representation for the current state\n",
    "state_representation = utils.board_state_int(c4.board, 1)\n",
    "\n",
    "#predict from model\n",
    "q_values = model.predict(state_representation[np.newaxis, :])\n",
    "print(q_values)\n",
    "np.argmax(q_values)"
   ]
  },
  {
   "cell_type": "code",
   "execution_count": 51,
   "id": "fe37fcf4",
   "metadata": {},
   "outputs": [
    {
     "name": "stdout",
     "output_type": "stream",
     "text": [
      "|   |   |   |   |   |   |\n",
      "|   |   |   |   |   |   |\n",
      "|   | X | X |   |   |   |\n",
      "|   | X | O | X |   |   |\n",
      "| X | O | O | O | X | O |\n"
     ]
    }
   ],
   "source": [
    "#new state representation\n",
    "c4 = ConnectFour()\n",
    "c4.play_move(0, False)\n",
    "c4.play_move(1, False)\n",
    "c4.play_move(1, False)\n",
    "c4.play_move(2, False)\n",
    "c4.play_move(1, False)\n",
    "c4.play_move(2, False)\n",
    "c4.play_move(2, False)\n",
    "c4.play_move(3, False)\n",
    "c4.play_move(3, False)\n",
    "c4.play_move(5, False)\n",
    "c4.play_move(4, False)\n",
    "c4.print_board()"
   ]
  },
  {
   "cell_type": "code",
   "execution_count": 54,
   "id": "12c9df39",
   "metadata": {},
   "outputs": [
    {
     "name": "stdout",
     "output_type": "stream",
     "text": [
      "[[ 3.4869461e+10 -1.8579548e+11 -6.6848944e+10 -8.4769710e+10\n",
      "  -3.7227512e+10 -2.0816727e+11]]\n"
     ]
    },
    {
     "data": {
      "text/plain": [
       "0"
      ]
     },
     "execution_count": 54,
     "metadata": {},
     "output_type": "execute_result"
    }
   ],
   "source": [
    "state_representation = utils.board_state_int(c4.board, 2)\n",
    "\n",
    "#predict from model\n",
    "q_values = model.predict(state_representation[np.newaxis, :])\n",
    "print(q_values)\n",
    "np.argmax(q_values)"
   ]
  },
  {
   "cell_type": "code",
   "execution_count": null,
   "id": "742aadda",
   "metadata": {},
   "outputs": [],
   "source": []
  }
 ],
 "metadata": {
  "kernelspec": {
   "display_name": "Python 3",
   "language": "python",
   "name": "python3"
  },
  "language_info": {
   "codemirror_mode": {
    "name": "ipython",
    "version": 3
   },
   "file_extension": ".py",
   "mimetype": "text/x-python",
   "name": "python",
   "nbconvert_exporter": "python",
   "pygments_lexer": "ipython3",
   "version": "3.8.8"
  }
 },
 "nbformat": 4,
 "nbformat_minor": 5
}
