{
  "cells": [
    {
      "cell_type": "markdown",
      "metadata": {
        "id": "view-in-github",
        "colab_type": "text"
      },
      "source": [
        "<a href=\"https://colab.research.google.com/github/kaneelgit/ConnectFourZero/blob/main/Basic_Deep_QL_Connect4.ipynb\" target=\"_parent\"><img src=\"https://colab.research.google.com/assets/colab-badge.svg\" alt=\"Open In Colab\"/></a>"
      ]
    },
    {
      "cell_type": "code",
      "execution_count": 1,
      "metadata": {
        "colab": {
          "base_uri": "https://localhost:8080/"
        },
        "id": "CS7lUh94VOzv",
        "outputId": "98036df4-b5d3-44d8-b17d-b6793b53e255"
      },
      "outputs": [
        {
          "output_type": "stream",
          "name": "stdout",
          "text": [
            "Cloning into 'ConnectFourZero'...\n",
            "remote: Enumerating objects: 33, done.\u001b[K\n",
            "remote: Counting objects: 100% (33/33), done.\u001b[K\n",
            "remote: Compressing objects: 100% (25/25), done.\u001b[K\n",
            "remote: Total 33 (delta 9), reused 18 (delta 3), pack-reused 0\u001b[K\n",
            "Receiving objects: 100% (33/33), 19.96 KiB | 219.00 KiB/s, done.\n",
            "Resolving deltas: 100% (9/9), done.\n"
          ]
        }
      ],
      "source": [
        "#clone the repo\n",
        "!git clone https://github.com/kaneelgit/ConnectFourZero.git"
      ]
    },
    {
      "cell_type": "code",
      "execution_count": 2,
      "metadata": {
        "id": "TVVaERkwV2i_"
      },
      "outputs": [],
      "source": [
        "#import libraries\n",
        "import numpy as np\n",
        "import pandas\n",
        "import matplotlib.pyplot as plt\n",
        "\n",
        "import tensorflow as tf\n",
        "import tensorflow_probability as tfp\n",
        "\n",
        "from tensorflow.keras.models import Sequential\n",
        "from tensorflow.keras import layers\n",
        "from tensorflow.keras.losses import SparseCategoricalCrossentropy\n",
        "from tensorflow.keras.optimizers import Adam\n",
        "from tensorflow.keras.metrics import Accuracy\n",
        "\n",
        "tfd = tfp.distributions\n",
        "tfpl = tfp.layers\n",
        "\n",
        "from sklearn.preprocessing import MinMaxScaler\n",
        "from collections import deque\n",
        "import random\n",
        "import sys\n",
        "# sys.path.append('/ConnectFourZero')\n",
        "from ConnectFourZero.ConnectFour.game import ConnectFour"
      ]
    },
    {
      "cell_type": "code",
      "source": [
        "device = tf.test.gpu_device_name()\n"
      ],
      "metadata": {
        "id": "ImeMoyAyf08r"
      },
      "execution_count": 3,
      "outputs": []
    },
    {
      "cell_type": "code",
      "execution_count": 5,
      "metadata": {
        "id": "YUNNLXbEdKwz"
      },
      "outputs": [],
      "source": [
        "#create a Neural Network Model\n",
        "\n",
        "#create a convolution block\n",
        "class ConvBlock(tf.keras.layers.Layer):\n",
        "\n",
        "    def __init__(self, in_channels, out_channels, kernel_size = 3, stride = 1, padding = \"same\"):\n",
        "        super(ConvBlock, self).__init__()\n",
        "        self.conv = tf.keras.layers.Conv2D(filters=out_channels, kernel_size=kernel_size, strides=stride, padding=padding)\n",
        "        self.batchnorm = tf.keras.layers.BatchNormalization()\n",
        "        self.relu = tf.keras.layers.ReLU()\n",
        "\n",
        "    def call(self, inputs):\n",
        "        x = self.conv(inputs)\n",
        "        x = self.batchnorm(x)\n",
        "        x = self.relu(x)\n",
        "        return x\n",
        "\n",
        "\n",
        "class ResidualBlock(tf.keras.layers.Layer):\n",
        "\n",
        "    def __init__(self, in_channels, out_channels):\n",
        "        super(ResidualBlock, self).__init__()\n",
        "        self.conv1 = ConvBlock(in_channels, out_channels)\n",
        "        self.conv2 = ConvBlock(in_channels, out_channels)\n",
        "        if in_channels != out_channels:\n",
        "            self.shortcut = tf.keras.layers.Conv2D(filters=out_channels, kernel_size=1, strides=1, padding=\"same\")\n",
        "        else:\n",
        "            self.shortcut = lambda x: x\n",
        "\n",
        "    def call(self, inputs):\n",
        "        residual = self.shortcut(inputs)\n",
        "        x = self.conv1(inputs)\n",
        "        x = self.conv2(x)\n",
        "        x = x + residual\n",
        "        x = tf.nn.relu(x)\n",
        "        return x\n",
        "\n",
        "\n",
        "model = tf.keras.Sequential([\n",
        "    ConvBlock(3, 64, kernel_size = 3),\n",
        "    ResidualBlock(64, 64),\n",
        "    ResidualBlock(64, 64),\n",
        "    ResidualBlock(64, 64),\n",
        "    ResidualBlock(64, 64),\n",
        "    tf.keras.layers.Flatten(),\n",
        "    tf.keras.layers.Dense(6, activation = 'linear')\n",
        "])\n",
        "\n",
        "model.compile(loss = 'mean_squared_error', optimizer = Adam())\n",
        "model.build(input_shape = (None, 5, 6, 3))"
      ]
    },
    {
      "cell_type": "code",
      "source": [
        "model.summary()"
      ],
      "metadata": {
        "id": "SXYLsfEmlCqG",
        "outputId": "44a91ccd-bed1-439c-b88d-e9d05286526a",
        "colab": {
          "base_uri": "https://localhost:8080/"
        }
      },
      "execution_count": 6,
      "outputs": [
        {
          "output_type": "stream",
          "name": "stdout",
          "text": [
            "Model: \"sequential_1\"\n",
            "_________________________________________________________________\n",
            " Layer (type)                Output Shape              Param #   \n",
            "=================================================================\n",
            " conv_block_7 (ConvBlock)    (None, 5, 6, 64)          2048      \n",
            "                                                                 \n",
            " residual_block_3 (Residual  (None, 5, 6, 64)          74368     \n",
            " Block)                                                          \n",
            "                                                                 \n",
            " residual_block_4 (Residual  (None, 5, 6, 64)          74368     \n",
            " Block)                                                          \n",
            "                                                                 \n",
            " residual_block_5 (Residual  (None, 5, 6, 64)          74368     \n",
            " Block)                                                          \n",
            "                                                                 \n",
            " residual_block_6 (Residual  (None, 5, 6, 64)          74368     \n",
            " Block)                                                          \n",
            "                                                                 \n",
            " flatten_1 (Flatten)         (None, 1920)              0         \n",
            "                                                                 \n",
            " dense_1 (Dense)             (None, 6)                 11526     \n",
            "                                                                 \n",
            "=================================================================\n",
            "Total params: 311046 (1.19 MB)\n",
            "Trainable params: 309894 (1.18 MB)\n",
            "Non-trainable params: 1152 (4.50 KB)\n",
            "_________________________________________________________________\n"
          ]
        }
      ]
    },
    {
      "cell_type": "code",
      "execution_count": 74,
      "metadata": {
        "id": "3euI_oB5dKw2"
      },
      "outputs": [],
      "source": [
        "def board_state_int(board, current_player):\n",
        "\n",
        "    board_state = np.zeros([5, 6, 3])\n",
        "\n",
        "    for r, row in enumerate(board):\n",
        "        for c, col in enumerate(row):\n",
        "            if col == 'X':\n",
        "                board_state[r, c, 0] = 1\n",
        "            if col == 'O':\n",
        "                board_state[r, c, 1] = 2\n",
        "            if col == ' ':\n",
        "                board_state[r, c, 2] = current_player\n",
        "\n",
        "    return board_state\n",
        "\n"
      ]
    },
    {
      "cell_type": "code",
      "execution_count": 75,
      "metadata": {
        "id": "skdGcJMsdKw4"
      },
      "outputs": [],
      "source": [
        "#variables\n",
        "gamma = 0.95\n",
        "epsilon = 0.09\n",
        "epsilon_min = 0.01\n",
        "epsilon_decay = 0.995\n",
        "memory = deque(maxlen = 2000)\n",
        "batch_size = 16\n",
        "episodes = 1 #10000"
      ]
    },
    {
      "cell_type": "code",
      "execution_count": 76,
      "metadata": {
        "id": "TAV3sfjodKw6",
        "outputId": "f53b44f2-4fe7-4a2f-e56d-d983969c1065",
        "colab": {
          "base_uri": "https://localhost:8080/",
          "height": 245
        }
      },
      "outputs": [
        {
          "output_type": "error",
          "ename": "AttributeError",
          "evalue": "ignored",
          "traceback": [
            "\u001b[0;31m---------------------------------------------------------------------------\u001b[0m",
            "\u001b[0;31mAttributeError\u001b[0m                            Traceback (most recent call last)",
            "\u001b[0;32m<ipython-input-76-20e5887e72dc>\u001b[0m in \u001b[0;36m<cell line: 2>\u001b[0;34m()\u001b[0m\n\u001b[1;32m      6\u001b[0m \u001b[0;34m\u001b[0m\u001b[0m\n\u001b[1;32m      7\u001b[0m     \u001b[0;31m#select current player\u001b[0m\u001b[0;34m\u001b[0m\u001b[0;34m\u001b[0m\u001b[0m\n\u001b[0;32m----> 8\u001b[0;31m     \u001b[0mrand_choice\u001b[0m \u001b[0;34m=\u001b[0m \u001b[0mnp\u001b[0m\u001b[0;34m.\u001b[0m\u001b[0mrandom\u001b[0m\u001b[0;34m.\u001b[0m\u001b[0mrandint\u001b[0m\u001b[0;34m(\u001b[0m\u001b[0;36m1\u001b[0m\u001b[0;34m,\u001b[0m \u001b[0;36m3\u001b[0m\u001b[0;34m,\u001b[0m \u001b[0msize\u001b[0m \u001b[0;34m=\u001b[0m \u001b[0;36m1\u001b[0m\u001b[0;34m)\u001b[0m \u001b[0;31m#if 1 computer plays first if 2 computer plays second\u001b[0m\u001b[0;34m\u001b[0m\u001b[0;34m\u001b[0m\u001b[0m\n\u001b[0m\u001b[1;32m      9\u001b[0m     \u001b[0;32mif\u001b[0m \u001b[0mrand_choice\u001b[0m \u001b[0;34m==\u001b[0m \u001b[0;36m1\u001b[0m\u001b[0;34m:\u001b[0m\u001b[0;34m\u001b[0m\u001b[0;34m\u001b[0m\u001b[0m\n\u001b[1;32m     10\u001b[0m         \u001b[0mcomputer\u001b[0m \u001b[0;34m=\u001b[0m \u001b[0;34m'X'\u001b[0m\u001b[0;34m\u001b[0m\u001b[0;34m\u001b[0m\u001b[0m\n",
            "\u001b[0;31mAttributeError\u001b[0m: 'int' object has no attribute 'random'"
          ]
        }
      ],
      "source": [
        "#training loop\n",
        "for episode in range(episodes):\n",
        "\n",
        "    #start new game\n",
        "    c4 = ConnectFour()\n",
        "\n",
        "    #select current player\n",
        "    rand_choice = np.random.randint(1, 3, size = 1) #if 1 computer plays first if 2 computer plays second\n",
        "    if rand_choice == 1:\n",
        "        computer = 'X'\n",
        "    else:\n",
        "        computer = 'O'\n",
        "\n",
        "    #current state\n",
        "    cp = 1 if c4.current_player == 'X' else 2 #since this is the beginning current player is passed on to the first state representation\n",
        "    state = board_state_int(c4.board, cp)\n",
        "\n",
        "    #append first state\n",
        "    current_game_states = []\n",
        "    current_game_states.append(state)\n",
        "\n",
        "    #bool to start game and break loop\n",
        "    play_game = True\n",
        "\n",
        "    while play_game:\n",
        "\n",
        "        if np.random.rand() <= epsilon:\n",
        "            ## random action\n",
        "            move = np.random.randint(0, 6)\n",
        "\n",
        "        else:\n",
        "            ## predict from the model\n",
        "            with tf.device(device):\n",
        "              q_preds = model.predict(state[np.newaxis, :])\n",
        "\n",
        "            move = np.argmax(q_preds)\n",
        "\n",
        "        if c4.make_move(move):\n",
        "            np = 2 if c4.current_player == 'X' else 1 #find the next player using the current player\n",
        "            state = board_state_int(c4.board, cp)\n",
        "            current_game_states.append(state)\n",
        "\n",
        "            if c4.check_winner():\n",
        "                winner = c4.winner\n",
        "                # c4.print_board()\n",
        "                break\n",
        "            if all(cell != ' ' for row in c4.board for cell in row):\n",
        "                winner = 'draw'\n",
        "                # c4.print_board()\n",
        "                break\n",
        "\n",
        "            c4.current_player = 'O' if c4.current_player == 'X' else 'X'\n",
        "\n",
        "        if len(memory) > batch_size:\n",
        "\n",
        "            #get a mini batch\n",
        "            mini_batch = random.sample(memory, batch_size)\n",
        "\n",
        "            inputs = tf.zeros((batch_size, state.shape[0], state.shape[1], state.shape[2]))\n",
        "            outputs = tf.zeros((batch_size, 6)) #6 is the number of columns\n",
        "\n",
        "            #get stuff from the mini batch and get qu values and stuff\n",
        "            for i, (cs, ns, r) in enumerate(mini_batch):\n",
        "\n",
        "                with tf.device(device):\n",
        "\n",
        "                  q_value = r + gamma * tf.reduce_max(model.predict(ns[np.newaxis, :]))\n",
        "\n",
        "                  #predicted q values\n",
        "                  pred_q_values = model.predict(cs[np.newaxis, :])\n",
        "\n",
        "                #add the new q value\n",
        "                pred_q_values[0][move] = q_value\n",
        "\n",
        "                inputs.numpy()[i] = cs\n",
        "                outputs.numpy()[i] = pred_q_values\n",
        "\n",
        "            model.fit(inputs, outputs, verbose = 0, epochs = 5)\n",
        "\n",
        "\n",
        "    #if winner is 'X' and random choice was 1. you are the winner add the reward and stuff (+ 1 for win -1 for loss 0 for draw)\n",
        "    if winner == computer:\n",
        "        reward = 1\n",
        "    elif winner != computer:\n",
        "        reward = -1\n",
        "    else:\n",
        "        reward = 0\n",
        "\n",
        "    #load stuff to memory\n",
        "    for i in range(0, len(current_game_states) - 1):\n",
        "        memory.append((current_game_states[i], current_game_states[i + 1], reward))\n",
        "\n",
        "    #save model every 10 episodes\n",
        "\n",
        "    if i % 50 == 0 and i != 0:\n",
        "        # save_dir = f'/content/drive/MyDrive/Colab Notebooks/C4/model_weights_{episode}.h5' #google drive\n",
        "        save_dir = f\"/content/model_weights_{episode}.h5\"\n",
        "        model.save_weights(save_dir)"
      ]
    },
    {
      "cell_type": "code",
      "source": [],
      "metadata": {
        "id": "pR1ZmVTNyrKt"
      },
      "execution_count": null,
      "outputs": []
    }
  ],
  "metadata": {
    "colab": {
      "provenance": [],
      "include_colab_link": true
    },
    "kernelspec": {
      "display_name": "Python 3",
      "name": "python3"
    },
    "language_info": {
      "codemirror_mode": {
        "name": "ipython",
        "version": 3
      },
      "file_extension": ".py",
      "mimetype": "text/x-python",
      "name": "python",
      "nbconvert_exporter": "python",
      "pygments_lexer": "ipython3",
      "version": "3.8.8"
    }
  },
  "nbformat": 4,
  "nbformat_minor": 0
}